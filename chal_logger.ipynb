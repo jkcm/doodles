{
 "cells": [
  {
   "cell_type": "code",
   "execution_count": 29,
   "metadata": {},
   "outputs": [
    {
     "name": "stdout",
     "output_type": "stream",
     "text": [
      "0\n"
     ]
    }
   ],
   "source": [
    "import os\n",
    "import subprocess\n",
    "import xml.etree.ElementTree as ET\n",
    "\n",
    "\n",
    "x = subprocess.call('hostname')\n",
    "print(x)"
   ]
  },
  {
   "cell_type": "code",
   "execution_count": 36,
   "metadata": {},
   "outputs": [],
   "source": [
    "x = !{'qstat -xf'}\n",
    "root = ET.fromstring(x[0])"
   ]
  },
  {
   "cell_type": "code",
   "execution_count": 33,
   "metadata": {},
   "outputs": [
    {
     "data": {
      "text/plain": [
       "'<Data><Job><Job_Id>149312.olympus</Job_Id><Job_Name>28C64</Job_Name><Job_Owner>bdygert@olympus</Job_Owner><resources_used><cput>162:56:58</cput><mem>5972472kb</mem><vmem>21665584kb</vmem><walltime>05:30:18</walltime></resources_used><job_state>R</job_state><queue>workq</queue><server>olympus</server><Checkpoint>u</Checkpoint><ctime>1602285547</ctime><Error_Path>olympus:/home/disk/eos1/bdygert/highvres/aquafv/scripts/28C64.e149312</Error_Path><exec_host>oly22/7+oly22/6+oly22/5+oly22/4+oly22/3+oly22/2+oly22/1+oly22/0+oly21/7+oly21/6+oly21/5+oly21/4+oly21/3+oly21/2+oly21/1+oly21/0+oly19/7+oly19/6+oly19/5+oly19/4+oly19/3+oly19/2+oly19/1+oly19/0+oly17/7+oly17/6+oly17/5+oly17/4+oly17/3+oly17/2+oly17/1+oly17/0</exec_host><Hold_Types>n</Hold_Types><Join_Path>n</Join_Path><Keep_Files>n</Keep_Files><Mail_Points>ae</Mail_Points><Mail_Users>bdygert@uw.edu</Mail_Users><mtime>1602285548</mtime><Output_Path>olympus:/home/disk/eos1/bdygert/highvres/aquafv/scripts/28C64.o149312</Output_Path><Priority>0</Priority><qtime>1602285547</qtime><Rerunable>True</Rerunable><Resource_List><nodect>4</nodect><nodes>4:ppn=8</nodes><walltime>08:00:00</walltime></Resource_List><session_id>10404</session_id><etime>1602285547</etime><submit_args>28C64</submit_args><start_time>1602285548</start_time><start_count>1</start_count><fault_tolerant>False</fault_tolerant><x>NACCESSPOLICY:SINGLEJOB</x></Job></Data>'"
      ]
     },
     "execution_count": 33,
     "metadata": {},
     "output_type": "execute_result"
    }
   ],
   "source": [
    "x[0]"
   ]
  },
  {
   "cell_type": "code",
   "execution_count": 39,
   "metadata": {},
   "outputs": [
    {
     "name": "stdout",
     "output_type": "stream",
     "text": [
      "<Element 'Job_Id' at 0x7fdeb4371b38>\n",
      "<Element 'Job_Name' at 0x7fdeb4371c28>\n",
      "<Element 'Job_Owner' at 0x7fdeb4371c78>\n",
      "<Element 'resources_used' at 0x7fdeb4371cc8>\n",
      "<Element 'job_state' at 0x7fdeb4371e58>\n",
      "<Element 'queue' at 0x7fdeb4371ea8>\n",
      "<Element 'server' at 0x7fdeb4371ef8>\n",
      "<Element 'Checkpoint' at 0x7fdeb4371f48>\n",
      "<Element 'ctime' at 0x7fdeb4371f98>\n",
      "<Element 'Error_Path' at 0x7fdeb4377048>\n",
      "<Element 'exec_host' at 0x7fdeb4377098>\n",
      "<Element 'Hold_Types' at 0x7fdeb43770e8>\n",
      "<Element 'Join_Path' at 0x7fdeb4377138>\n",
      "<Element 'Keep_Files' at 0x7fdeb4377188>\n",
      "<Element 'Mail_Points' at 0x7fdeb43771d8>\n",
      "<Element 'Mail_Users' at 0x7fdeb4377228>\n",
      "<Element 'mtime' at 0x7fdeb4377278>\n",
      "<Element 'Output_Path' at 0x7fdeb43772c8>\n",
      "<Element 'Priority' at 0x7fdeb4377318>\n",
      "<Element 'qtime' at 0x7fdeb4377368>\n",
      "<Element 'Rerunable' at 0x7fdeb43773b8>\n",
      "<Element 'Resource_List' at 0x7fdeb4377408>\n",
      "<Element 'session_id' at 0x7fdeb4377548>\n",
      "<Element 'etime' at 0x7fdeb4377598>\n",
      "<Element 'submit_args' at 0x7fdeb43775e8>\n",
      "<Element 'start_time' at 0x7fdeb4377638>\n",
      "<Element 'start_count' at 0x7fdeb4377688>\n",
      "<Element 'fault_tolerant' at 0x7fdeb43776d8>\n",
      "<Element 'x' at 0x7fdeb4377728>\n"
     ]
    }
   ],
   "source": [
    "for child in root[0]:\n",
    "    print(child)"
   ]
  },
  {
   "cell_type": "code",
   "execution_count": null,
   "metadata": {},
   "outputs": [],
   "source": []
  }
 ],
 "metadata": {
  "kernelspec": {
   "display_name": "Python 3",
   "language": "python",
   "name": "python3"
  },
  "language_info": {
   "codemirror_mode": {
    "name": "ipython",
    "version": 3
   },
   "file_extension": ".py",
   "mimetype": "text/x-python",
   "name": "python",
   "nbconvert_exporter": "python",
   "pygments_lexer": "ipython3",
   "version": "3.7.3"
  }
 },
 "nbformat": 4,
 "nbformat_minor": 4
}
