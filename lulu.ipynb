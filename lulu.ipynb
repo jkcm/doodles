{
 "cells": [
  {
   "cell_type": "code",
   "execution_count": 15,
   "metadata": {},
   "outputs": [
    {
     "name": "stdout",
     "output_type": "stream",
     "text": [
      "2.7182818011463845\n"
     ]
    }
   ],
   "source": [
    "n = 10\n",
    "tally = 1                      # initial value, lets us start with 1/1! as our first term in the loop\n",
    "for i in range(1, n+1):        # this should loop from 1 to 10\n",
    "    denom = 1                  # initial value for our denominator. Since we're multiplying, we start with 1\n",
    "    for j in range(1, i+1):    # from 1 to i, e.g. to get 5! \n",
    "        denom = denom*j        # computing i! here in a loop\n",
    "    new_term = 1/denom         # this is where we calculate the new term for our sum...\n",
    "    tally = tally+new_term     # and this is where we add it on\n",
    "print(tally)"
   ]
  },
  {
   "cell_type": "code",
   "execution_count": 19,
   "metadata": {},
   "outputs": [
    {
     "name": "stdout",
     "output_type": "stream",
     "text": [
      "2.7182818011463845\n"
     ]
    }
   ],
   "source": [
    "numlines = 10\n",
    "summation = 1 #rename for clarity\n",
    "for line in range(1, numlines+1): #renaming the numlines here, bad form to use a previous var name as iterating variable. Also reversing loop order, no reason to have it backwards\n",
    "    term_denom = 1 # renaming result for clarity\n",
    "    for i in range (1, line+1): # proper reference to iterating variable \"line\"\n",
    "        term_denom = term_denom*i\n",
    "    next_term = 1/term_denom  #renaming variable for clarity, also moving this to the outer loop\n",
    "    summation = summation+next_term #\n",
    "print(summation)"
   ]
  },
  {
   "cell_type": "code",
   "execution_count": null,
   "metadata": {},
   "outputs": [],
   "source": []
  }
 ],
 "metadata": {
  "kernelspec": {
   "display_name": "Python 3",
   "language": "python",
   "name": "python3"
  },
  "language_info": {
   "codemirror_mode": {
    "name": "ipython",
    "version": 3
   },
   "file_extension": ".py",
   "mimetype": "text/x-python",
   "name": "python",
   "nbconvert_exporter": "python",
   "pygments_lexer": "ipython3",
   "version": "3.7.3"
  }
 },
 "nbformat": 4,
 "nbformat_minor": 4
}
