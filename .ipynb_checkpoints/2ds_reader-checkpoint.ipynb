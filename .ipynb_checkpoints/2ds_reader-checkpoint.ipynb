{
 "cells": [
  {
   "cell_type": "code",
   "execution_count": 339,
   "metadata": {},
   "outputs": [],
   "source": [
    "import numpy as np\n",
    "import xarray as xr\n",
    "import matplotlib.pyplot as plt\n",
    "import random"
   ]
  },
  {
   "cell_type": "code",
   "execution_count": 340,
   "metadata": {},
   "outputs": [],
   "source": [
    "sample_file = r'/home/disk/eos4/jkcm/Data/mntr/phase/2DS.20151205_subset.V.cdf'\n",
    "sample_data = xr.open_dataset(sample_file)\n",
    "processed_file = r'/home/disk/eos4/jkcm/Data/mntr/phase/proc2DS.20151205_subset.V.cdf'\n",
    "proc_data = xr.open_dataset(processed_file)"
   ]
  },
  {
   "cell_type": "code",
   "execution_count": null,
   "metadata": {},
   "outputs": [],
   "source": []
  },
  {
   "cell_type": "code",
   "execution_count": 336,
   "metadata": {},
   "outputs": [],
   "source": [
    "def im2dec(arr):\n",
    "    def dec2binarr(arr):\n",
    "        return np.array(list(''.join([bin(int(i))[2:].zfill(16) for i in arr]))).astype(int)\n",
    "    \n",
    "    assert arr.shape[1] == 8\n",
    "    return np.array([dec2binarr(i) for i in arr])"
   ]
  },
  {
   "cell_type": "code",
   "execution_count": null,
   "metadata": {},
   "outputs": [],
   "source": [
    "fig, axg = plt.subplots(nrows=8, ncols=5, figsize=(10,10))\n",
    "axl = axg.flatten()\n",
    "for i in range(40):\n",
    "    random_particle = random.choice(proc_data.time)  # pick a random particle from the processed file\n",
    "    while not proc_data.image_auto_reject[random_particle].values == 0:\n",
    "        print(proc_data.image_auto_reject[random_particle].values\n",
    "        random_particle = random.choice(proc_data.time)  # pick a random particle from the processed file\n",
    "    particle_frame = proc_data.parent_rec_num[random_particle].values\n",
    "    [slice_start, slice_end] = proc_data.position[random_particle].values\n",
    "    image_data = sample_data['data'].isel(time=particle_frame-1, ImgBlocklen=slice(slice_start-1, slice_end)).values\n",
    "    axl[i].imshow(~im2dec(image_data))\n",
    "for ax in axl:\n",
    "    ax.axis('off')"
   ]
  },
  {
   "cell_type": "code",
   "execution_count": null,
   "metadata": {},
   "outputs": [],
   "source": []
  }
 ],
 "metadata": {
  "kernelspec": {
   "display_name": "py37",
   "language": "python",
   "name": "py37"
  },
  "language_info": {
   "codemirror_mode": {
    "name": "ipython",
    "version": 3
   },
   "file_extension": ".py",
   "mimetype": "text/x-python",
   "name": "python",
   "nbconvert_exporter": "python",
   "pygments_lexer": "ipython3",
   "version": "3.7.4"
  }
 },
 "nbformat": 4,
 "nbformat_minor": 4
}
