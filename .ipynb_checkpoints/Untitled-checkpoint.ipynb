{
 "cells": [
  {
   "cell_type": "code",
   "execution_count": 116,
   "metadata": {},
   "outputs": [],
   "source": [
    "# arrangement is [stafford, graduate PLUS]\n",
    "import numpy as np\n",
    "import matplotlib.pyplot as plt\n",
    "interest = np.array([0.0608, 0.0708])\n",
    "principal = np.array([25000+23000+21000, 62000+60000+54000])\n",
    "current = [principal.copy(),principal.copy(),principal.copy(),principal.copy()]\n",
    "monthly = np.array([2000, 4000, 6000, 8000])\n",
    "result = [[np.sum(current[0])]] * 4"
   ]
  },
  {
   "cell_type": "code",
   "execution_count": 110,
   "metadata": {},
   "outputs": [],
   "source": [
    "i=0\n",
    "while (np.max(np.sum(current, axis=1)))>0:\n",
    "       i+=1\n",
    "       #payoff step\n",
    "       for s, payment in enumerate(monthly):\n",
    "           if np.sum(current[s]) <= 0: # loan is paid off\n",
    "               continue\n",
    "           elif current[s][1] > 0:\n",
    "               if current[s][1] >= payment:\n",
    "                   current[s][1] -= payment\n",
    "               else:\n",
    "       \n",
    "       \n",
    "       \n",
    "       \n",
    "# for j, payment in enumerate(monthly):\n",
    "#     i =0 \n",
    "#     while (np.sum(current[j])>0):# and i<100):\n",
    "#         i+=1\n",
    "#         if current[j][1] > 0 and current[j][1] >= payment: # if gradplus not paid off yet\n",
    "#             current[j][1] -= payment \n",
    "#         elif current[j][1] > 0 and current[j][1] < payment: # last gradplus payment\n",
    "#             current[j][0] -= (payment - current[j][1])\n",
    "#             current[j][1] = 0\n",
    "#         elif current[j][0] > 0 and current[j][0] > payment: # paying off stafford\n",
    "#             current[j][0] -= payment\n",
    "#         else:\n",
    "#             current[j][0] = 0\n",
    "#         result[j].append(np.sum(current[j]))\n"
   ]
  },
  {
   "cell_type": "code",
   "execution_count": 120,
   "metadata": {},
   "outputs": [
    {
     "data": {
      "text/plain": [
       "245000"
      ]
     },
     "execution_count": 120,
     "metadata": {},
     "output_type": "execute_result"
    }
   ],
   "source": []
  },
  {
   "cell_type": "code",
   "execution_count": 111,
   "metadata": {},
   "outputs": [
    {
     "data": {
      "text/plain": [
       "[<matplotlib.lines.Line2D at 0x7f37505ec198>,\n",
       " <matplotlib.lines.Line2D at 0x7f37505ec2e8>,\n",
       " <matplotlib.lines.Line2D at 0x7f37505ec438>,\n",
       " <matplotlib.lines.Line2D at 0x7f37505ec588>]"
      ]
     },
     "execution_count": 111,
     "metadata": {},
     "output_type": "execute_result"
    },
    {
     "data": {
      "image/png": "[encoded data removed]",
      "text/plain": [
       "<Figure size 432x288 with 1 Axes>"
      ]
     },
     "metadata": {
      "needs_background": "light"
     },
     "output_type": "display_data"
    }
   ],
   "source": [
    "plt.plot(np.array(result).T)"
   ]
  },
  {
   "cell_type": "code",
   "execution_count": 47,
   "metadata": {},
   "outputs": [
    {
     "data": {
      "text/plain": [
       "[980000,\n",
       " 243000,\n",
       " 241000,\n",
       " 239000,\n",
       " 237000,\n",
       " 235000,\n",
       " 233000,\n",
       " 231000,\n",
       " 229000,\n",
       " 227000,\n",
       " 225000,\n",
       " 223000,\n",
       " 221000,\n",
       " 219000,\n",
       " 217000,\n",
       " 215000,\n",
       " 213000,\n",
       " 211000,\n",
       " 209000,\n",
       " 207000,\n",
       " 205000,\n",
       " 203000,\n",
       " 201000,\n",
       " 199000,\n",
       " 197000,\n",
       " 195000,\n",
       " 193000,\n",
       " 191000,\n",
       " 189000,\n",
       " 187000,\n",
       " 185000,\n",
       " 183000,\n",
       " 181000,\n",
       " 179000,\n",
       " 177000,\n",
       " 175000,\n",
       " 173000,\n",
       " 171000,\n",
       " 169000,\n",
       " 167000,\n",
       " 165000,\n",
       " 163000,\n",
       " 161000,\n",
       " 159000,\n",
       " 157000,\n",
       " 155000,\n",
       " 153000,\n",
       " 151000,\n",
       " 149000,\n",
       " 147000,\n",
       " 145000,\n",
       " 143000,\n",
       " 141000,\n",
       " 139000,\n",
       " 137000,\n",
       " 135000,\n",
       " 133000,\n",
       " 131000,\n",
       " 129000,\n",
       " 127000,\n",
       " 125000,\n",
       " 123000,\n",
       " 121000,\n",
       " 119000,\n",
       " 117000,\n",
       " 115000,\n",
       " 113000,\n",
       " 111000,\n",
       " 109000,\n",
       " 107000,\n",
       " 105000,\n",
       " 103000,\n",
       " 101000,\n",
       " 99000,\n",
       " 97000,\n",
       " 95000,\n",
       " 93000,\n",
       " 91000,\n",
       " 89000,\n",
       " 87000,\n",
       " 85000,\n",
       " 83000,\n",
       " 81000,\n",
       " 79000,\n",
       " 77000,\n",
       " 75000,\n",
       " 73000,\n",
       " 71000,\n",
       " 69000,\n",
       " 67000,\n",
       " 65000,\n",
       " 63000,\n",
       " 61000,\n",
       " 59000,\n",
       " 57000,\n",
       " 55000,\n",
       " 53000,\n",
       " 51000,\n",
       " 49000,\n",
       " 47000,\n",
       " 45000,\n",
       " 43000,\n",
       " 41000,\n",
       " 39000,\n",
       " 37000,\n",
       " 35000,\n",
       " 33000,\n",
       " 31000,\n",
       " 29000,\n",
       " 27000,\n",
       " 25000,\n",
       " 23000,\n",
       " 21000,\n",
       " 19000,\n",
       " 17000,\n",
       " 15000,\n",
       " 13000,\n",
       " 11000,\n",
       " 9000,\n",
       " 7000,\n",
       " 5000,\n",
       " 3000,\n",
       " 1000,\n",
       " 0]"
      ]
     },
     "execution_count": 47,
     "metadata": {},
     "output_type": "execute_result"
    }
   ],
   "source": [
    "result[0]"
   ]
  },
  {
   "cell_type": "code",
   "execution_count": 40,
   "metadata": {},
   "outputs": [
    {
     "data": {
      "text/plain": [
       "2.5520833333333335"
      ]
     },
     "execution_count": 40,
     "metadata": {},
     "output_type": "execute_result"
    }
   ],
   "source": []
  },
  {
   "cell_type": "code",
   "execution_count": null,
   "metadata": {},
   "outputs": [],
   "source": []
  }
 ],
 "metadata": {
  "kernelspec": {
   "display_name": "Python 3",
   "language": "python",
   "name": "python3"
  },
  "language_info": {
   "codemirror_mode": {
    "name": "ipython",
    "version": 3
   },
   "file_extension": ".py",
   "mimetype": "text/x-python",
   "name": "python",
   "nbconvert_exporter": "python",
   "pygments_lexer": "ipython3",
   "version": "3.7.3"
  }
 },
 "nbformat": 4,
 "nbformat_minor": 4
}
