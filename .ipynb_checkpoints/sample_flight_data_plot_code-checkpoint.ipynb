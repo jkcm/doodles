{
 "cells": [
  {
   "cell_type": "code",
   "execution_count": 3,
   "metadata": {},
   "outputs": [],
   "source": [
    "import xarray as xr"
   ]
  },
  {
   "cell_type": "code",
   "execution_count": 2,
   "metadata": {},
   "outputs": [],
   "source": [
    "file_2ds = r'/home/disk/eos12/ratlas/SOCRATES/data/in-situ/processed_probe_data/product.20180125_rf05.2DS.nc'\n",
    "file_flight = r'/home/disk/eos12/ratlas/SOCRATES/data/in-situ/low_rate/RF05.20180125.225000_060000.PNI.nc'"
   ]
  },
  {
   "cell_type": "code",
   "execution_count": 4,
   "metadata": {},
   "outputs": [],
   "source": [
    "probe_data = xr.open_dataset(file_2ds)"
   ]
  },
  {
   "cell_type": "code",
   "execution_count": null,
   "metadata": {},
   "outputs": [],
   "source": [
    "flight_data = xr.open_dataset(file_flight)"
   ]
  }
 ],
 "metadata": {
  "kernelspec": {
   "display_name": "measures",
   "language": "python",
   "name": "measures"
  },
  "language_info": {
   "codemirror_mode": {
    "name": "ipython",
    "version": 3
   },
   "file_extension": ".py",
   "mimetype": "text/x-python",
   "name": "python",
   "nbconvert_exporter": "python",
   "pygments_lexer": "ipython3",
   "version": "3.7.3"
  }
 },
 "nbformat": 4,
 "nbformat_minor": 4
}
