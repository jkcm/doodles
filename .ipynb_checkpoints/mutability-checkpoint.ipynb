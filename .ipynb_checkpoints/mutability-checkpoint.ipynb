{
 "cells": [
  {
   "cell_type": "code",
   "execution_count": 2,
   "metadata": {},
   "outputs": [
    {
     "name": "stdout",
     "output_type": "stream",
     "text": [
      "True\n",
      "can't do this, 'tuple' object does not support item assignment\n",
      "('apple',)\n"
     ]
    }
   ],
   "source": [
    "a = ('apple',) #the comma is important, makes it a tuple.\n",
    "b = a\n",
    "print(id(a) == id(b)) # they're the same object.\n",
    "try:\n",
    "    b[0] = 'banana'\n",
    "except TypeError as e:\n",
    "    print(f\"can't do this, {e}\")\n",
    "b = ('banana',) # so instead we redefine b\n",
    "print(a) # still apple"
   ]
  },
  {
   "cell_type": "code",
   "execution_count": 3,
   "metadata": {},
   "outputs": [
    {
     "name": "stdout",
     "output_type": "stream",
     "text": [
      "True\n",
      "['banana']\n"
     ]
    }
   ],
   "source": [
    "a = ['apple',] #the comma is important, makes it a tuple.\n",
    "b = a\n",
    "print(id(a) == id(b)) # they're the same object.\n",
    "b[0] = 'banana' # this is perfectly OK!\n",
    "print(a) # oops, looks like we modified a"
   ]
  },
  {
   "cell_type": "code",
   "execution_count": null,
   "metadata": {},
   "outputs": [],
   "source": []
  }
 ],
 "metadata": {
  "kernelspec": {
   "display_name": "py37",
   "language": "python",
   "name": "py37"
  },
  "language_info": {
   "codemirror_mode": {
    "name": "ipython",
    "version": 3
   },
   "file_extension": ".py",
   "mimetype": "text/x-python",
   "name": "python",
   "nbconvert_exporter": "python",
   "pygments_lexer": "ipython3",
   "version": "3.7.4"
  }
 },
 "nbformat": 4,
 "nbformat_minor": 4
}
