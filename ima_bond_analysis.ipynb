{
 "cells": [
  {
   "cell_type": "markdown",
   "metadata": {},
   "source": [
    "### University IMA bond fee analysis"
   ]
  },
  {
   "cell_type": "code",
   "execution_count": 1,
   "metadata": {},
   "outputs": [],
   "source": [
    "import matplotlib.pyplot as plt\n",
    "\n",
    "debt = 53\n",
    "interest = 0.048\n",
    "income = 3.5\n",
    "debt_by_year = []\n",
    "prin_payment_by_year = []\n",
    "interest_by_year = []\n",
    "while debt > 0:\n",
    "    debt_by_year.append(debt)\n",
    "    interest_payment = debt*interest\n",
    "    interest_by_year.append(interest_payment)\n",
    "    prin_payment = income-interest_payment\n",
    "    debt = debt-prin_payment\n",
    "    prin_payment_by_year.append(prin_payment)\n",
    "year = [2002+i for i in range(len(debt_by_year))]\n",
    "\n",
    "plt.plot(year, debt_by_year, label='expected debt remaining')\n",
    "plt.xticks(year[::3]);\n",
    "plt.ylabel(\"millions\")\n",
    "plt.plot(2018, 32, 'rx', label='current')\n",
    "plt.legend()\n",
    "plt.grid(True)"
   ]
  },
  {
   "cell_type": "code",
   "execution_count": 2,
   "metadata": {},
   "outputs": [],
   "source": [
    "# years = [2002, 2003, 2004, 2005, 2006, 2007, 2008, 2009, 2010, 2011, 2012, 2013, 2014, 2015, 2016, 2017, 2018]\n",
    "prin_pays=[0,    0,    0,    0,    0,    0,    0,    0,    0,    0,    1.38, 1.44, 1.49, 1.56, 1.64, 1.72, 1.81]\n",
    "inte_pays=[0,    0,    0,    0,    0,    0,    0,    0,    0,    0,    2.03, 1.99, 1.93, 1.86, 1.78, 1.70, 1.61]\n",
    "receipts =[0,    0,    0,    0,    0,    0,    0,    0,    0,    0,    18.1, 27.4, 28.5, 28.8, 28.3, 28.2, 28.7]\n",
    "receipts_adj = [i*0.132 if i>20 else i*.185 for i in receipts] #2012 pre fac/ren fee\n",
    "receipts_diff = [r-i-p for i,p,r in zip(inte_pays, prin_pays, receipts_adj)]\n",
    "prin = [31.7]\n",
    "for i in prin_pays[::-1]:\n",
    "    prin.append(prin[-1] + i)\n",
    "prin.reverse()\n",
    "int_rate = [i/p for i,p in zip(inte_pays, prin)]"
   ]
  },
  {
   "cell_type": "code",
   "execution_count": 3,
   "metadata": {},
   "outputs": [
    {
     "data": {
      "text/plain": [
       "[<matplotlib.lines.Line2D at 0x7f7132854d68>]"
      ]
     },
     "execution_count": 3,
     "metadata": {},
     "output_type": "execute_result"
    },
    {
     "data": {
      "image/png": "[encoded data removed]",
      "text/plain": [
       "<Figure size 432x288 with 1 Axes>"
      ]
     },
     "metadata": {
      "needs_background": "light"
     },
     "output_type": "display_data"
    }
   ],
   "source": [
    "plt.plot(prin_pays)"
   ]
  },
  {
   "cell_type": "code",
   "execution_count": null,
   "metadata": {},
   "outputs": [],
   "source": []
  }
 ],
 "metadata": {
  "kernelspec": {
   "display_name": "Python 3",
   "language": "python",
   "name": "python3"
  },
  "language_info": {
   "codemirror_mode": {
    "name": "ipython",
    "version": 3
   },
   "file_extension": ".py",
   "mimetype": "text/x-python",
   "name": "python",
   "nbconvert_exporter": "python",
   "pygments_lexer": "ipython3",
   "version": "3.7.3"
  }
 },
 "nbformat": 4,
 "nbformat_minor": 4
}
