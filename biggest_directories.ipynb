{
 "cells": [
  {
   "cell_type": "markdown",
   "metadata": {},
   "source": [
    "### What are the biggest directories on the 7th floor fileservers?\n",
    "The point of this isn't to call out users (I'm a big data user!) but to see how much duplication there is"
   ]
  },
  {
   "cell_type": "code",
   "execution_count": 4,
   "metadata": {},
   "outputs": [
    {
     "name": "stdout",
     "output_type": "stream",
     "text": [
      "bananas\n"
     ]
    }
   ],
   "source": [
    "import os\n",
    "import matplotlib.pyplot as plt\n",
    "import numpy as np"
   ]
  },
  {
   "cell_type": "code",
   "execution_count": 22,
   "metadata": {},
   "outputs": [],
   "source": [
    "startdir = '/home/disk/p/jkcm/dump/test0'\n",
    "homedir = r'/home/disk/eos4/jkcm/Data'\n",
    "\n",
    "size_dict = {}\n",
    "size_list = []\n",
    "\n",
    "def size(directory, size_dict, max_size=1e500):\n",
    "    dirs = [name for name in os.listdir(directory)\n",
    "            if os.path.isdir(os.path.join(directory, name)) and not name[0] =='.']\n",
    "    if len(dirs) == 0:\n",
    "        files_size = sum([os.path.getsize(os.path.join(directory, f)) for f in os.listdir(directory)])>>20\n",
    "        if files_size > max_size:\n",
    "            size_dict[directory] = files_size\n",
    "            return 0, size_dict\n",
    "        return files_size, size_dict\n",
    "    else:\n",
    "        for root, dirs, files in os.walk(directory):\n",
    "            files = [f for f in files if not f[0] == '.']\n",
    "            subdirs = [d for d in dirs if not d[0] == '.']\n",
    "            if len(subdirs) ==0:\n",
    "                return \n",
    "            dirs[:] = subdirs\n",
    "\n",
    "            fsize = sum([os.path.getsize(os.path.join(root,f)) for f in files])>>20\n",
    "            sizes, _ = zip(*[size(os.path.join(root,d), size_dict, max_size) for d in subdirs])\n",
    "            dirsize = sum(sizes)\n",
    "            all_size = fsize+dirsize\n",
    "            if all_size > max_size:\n",
    "                size_dict[directory] = all_size\n",
    "                return 0, size_dict\n",
    "            return all_size, size_dict\n",
    "\n",
    "def get_all_sizes(directory):\n",
    "    all_sizes = {}\n",
    "    for root, dirs, files in os.walk(directory):\n",
    "        files = [f for f in files if not f[0] == '.']\n",
    "        dirs[:] = [d for d in dirs if not d[0] == '.']\n",
    "        all_sizes[root] = sum([os.path.getsize(os.path.join(root,f)) for f in files])>>20\n",
    "    return all_sizes"
   ]
  },
  {
   "cell_type": "code",
   "execution_count": 23,
   "metadata": {},
   "outputs": [],
   "source": [
    "size_dict = {}\n",
    "_ = size(homedir, size_dict, max_size=10<<10) # 10 GB\n"
   ]
  },
  {
   "cell_type": "code",
   "execution_count": 94,
   "metadata": {},
   "outputs": [
    {
     "data": {
      "text/plain": [
       "5118"
      ]
     },
     "execution_count": 94,
     "metadata": {},
     "output_type": "execute_result"
    }
   ],
   "source": [
    "sum(eos.values())>>10 # GB"
   ]
  },
  {
   "cell_type": "code",
   "execution_count": 88,
   "metadata": {},
   "outputs": [
    {
     "data": {
      "text/plain": [
       "array([ 0,  0,  0, ...,  0, 52, 52])"
      ]
     },
     "execution_count": 88,
     "metadata": {},
     "output_type": "execute_result"
    }
   ],
   "source": [
    "np.array(list(eos.values()))"
   ]
  },
  {
   "cell_type": "code",
   "execution_count": 107,
   "metadata": {},
   "outputs": [],
   "source": [
    "def dummy_func(x, d):\n",
    "    d[str(x)] = x\n",
    "    return x, d\n",
    "d = {}\n",
    "s, d  = dummy_func(1, d)"
   ]
  },
  {
   "cell_type": "code",
   "execution_count": 129,
   "metadata": {},
   "outputs": [],
   "source": [
    "d = {}\n",
    "a, _ = zip(*[dummy_func(x, d) for x in  range(10)])"
   ]
  },
  {
   "cell_type": "code",
   "execution_count": 131,
   "metadata": {},
   "outputs": [],
   "source": [
    "x[1]['5'] = 'bananas'"
   ]
  },
  {
   "cell_type": "code",
   "execution_count": 132,
   "metadata": {},
   "outputs": [
    {
     "data": {
      "text/plain": [
       "{'0': 0,\n",
       " '1': 1,\n",
       " '2': 2,\n",
       " '3': 3,\n",
       " '4': 4,\n",
       " '5': 'bananas',\n",
       " '6': 6,\n",
       " '7': 7,\n",
       " '8': 8,\n",
       " '9': 9}"
      ]
     },
     "execution_count": 132,
     "metadata": {},
     "output_type": "execute_result"
    }
   ],
   "source": [
    "d"
   ]
  },
  {
   "cell_type": "code",
   "execution_count": 98,
   "metadata": {},
   "outputs": [
    {
     "data": {
      "text/plain": [
       "2965"
      ]
     },
     "execution_count": 98,
     "metadata": {},
     "output_type": "execute_result"
    }
   ],
   "source": [
    "sum(np.array(list(eos.values()))[np.array(list(eos.values()))>5120])>>10 # TB"
   ]
  }
 ],
 "metadata": {
  "kernelspec": {
   "display_name": "measures",
   "language": "python",
   "name": "measures"
  },
  "language_info": {
   "codemirror_mode": {
    "name": "ipython",
    "version": 3
   },
   "file_extension": ".py",
   "mimetype": "text/x-python",
   "name": "python",
   "nbconvert_exporter": "python",
   "pygments_lexer": "ipython3",
   "version": "3.7.3"
  }
 },
 "nbformat": 4,
 "nbformat_minor": 4
}
