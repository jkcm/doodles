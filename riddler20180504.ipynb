{
 "cells": [
  {
   "cell_type": "code",
   "execution_count": 26,
   "metadata": {},
   "outputs": [
    {
     "name": "stdout",
     "output_type": "stream",
     "text": [
      "success!\n",
      "1679610\n",
      "1959546.0\n",
      "2286138.0\n",
      "2667162.0\n",
      "3111690.0\n",
      "3630306.0\n",
      "4235358.0\n",
      "4941252.0\n"
     ]
    }
   ],
   "source": [
    "def f(x):\n",
    "    \"\"\"previous pile size given current pile size\"\"\"\n",
    "    return 1+x*7/6\n",
    "\n",
    "def check(n):\n",
    "    \"\"\"check if all 7 previous piles were integer size\"\"\"\n",
    "    p = n\n",
    "    for i in range(8):\n",
    "        p = f(p)\n",
    "        if not p%1 == 0:\n",
    "            return False\n",
    "    return True\n",
    "\n",
    "i = 0\n",
    "while True:\n",
    "    \"\"\"just run until we find a suitable number\"\"\"\n",
    "    if check(i):\n",
    "        print('success!')\n",
    "        for j in range(8):\n",
    "            print(i)\n",
    "            i = f(i)\n",
    "        break \n",
    "    i += 1"
   ]
  },
  {
   "cell_type": "code",
   "execution_count": null,
   "metadata": {},
   "outputs": [],
   "source": []
  }
 ],
 "metadata": {
  "kernelspec": {
   "display_name": "Python 3",
   "language": "python",
   "name": "python3"
  },
  "language_info": {
   "codemirror_mode": {
    "name": "ipython",
    "version": 3
   },
   "file_extension": ".py",
   "mimetype": "text/x-python",
   "name": "python",
   "nbconvert_exporter": "python",
   "pygments_lexer": "ipython3",
   "version": "3.7.3"
  }
 },
 "nbformat": 4,
 "nbformat_minor": 4
}
